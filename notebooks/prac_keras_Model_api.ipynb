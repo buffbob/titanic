{
 "cells": [
  {
   "cell_type": "code",
   "execution_count": 1,
   "metadata": {},
   "outputs": [
    {
     "name": "stdout",
     "output_type": "stream",
     "text": [
      "The autoreload extension is already loaded. To reload it, use:\n",
      "  %reload_ext autoreload\n"
     ]
    }
   ],
   "source": [
    "import sys\n",
    "import logging\n",
    "\n",
    "import numpy as np\n",
    "import scipy as sp\n",
    "import sklearn\n",
    "\n",
    "%load_ext autoreload\n",
    "%autoreload 2\n",
    "\n",
    "import matplotlib as mpl\n",
    "import matplotlib.pyplot as plt\n",
    "%matplotlib inline\n",
    "%config InlineBackend.figure_format = 'retina'\n",
    "\n",
    "import seaborn as sns\n",
    "sns.set_context(\"poster\")\n",
    "sns.set(rc={'figure.figsize': (16, 9.)})\n",
    "sns.set_style(\"whitegrid\")\n",
    "\n",
    "import pandas as pd\n",
    "pd.set_option(\"display.max_rows\", 120)\n",
    "pd.set_option(\"display.max_columns\", 120)\n",
    "\n",
    "logging.basicConfig(level=logging.INFO, stream=sys.stdout)\n",
    "\n",
    "\n",
    "%load_ext autoreload\n",
    "%autoreload 2"
   ]
  },
  {
   "cell_type": "code",
   "execution_count": 17,
   "metadata": {},
   "outputs": [],
   "source": [
    "from tensorflow.keras.layers import Dense,Dropout,Flatten,Conv2D,MaxPool2D,Input,BatchNormalization,Reshape,MaxPooling2D\n",
    "from tensorflow.keras.models import Model\n",
    "\n",
    "from tensorflow.keras.optimizers import RMSprop\n",
    "from tensorflow.keras.preprocessing.image import ImageDataGenerator\n",
    "\n",
    "from sklearn.preprocessing import StandardScaler, LabelEncoder, OneHotEncoder \n",
    "\n",
    "from sklearn.model_selection import train_test_split\n",
    "from sklearn.metrics import confusion_matrix\n",
    "\n",
    "from titanic.go1_utils import load_digit_data, process_digit_data, encode_labels"
   ]
  },
  {
   "cell_type": "code",
   "execution_count": 4,
   "metadata": {},
   "outputs": [],
   "source": [
    "\n",
    "path= \"../data/\"\n",
    "train,test,labels,sample_submission = load_digit_data(path)"
   ]
  },
  {
   "cell_type": "code",
   "execution_count": 5,
   "metadata": {},
   "outputs": [
    {
     "data": {
      "text/plain": [
       "10"
      ]
     },
     "execution_count": 5,
     "metadata": {},
     "output_type": "execute_result"
    }
   ],
   "source": [
    "len(labels.value_counts())"
   ]
  },
  {
   "cell_type": "code",
   "execution_count": 6,
   "metadata": {},
   "outputs": [],
   "source": [
    "shape_flat = train.shape[1]\n",
    "shape_full = (28,28,1)\n",
    "num_classes = len(labels.value_counts())"
   ]
  },
  {
   "cell_type": "code",
   "execution_count": 7,
   "metadata": {},
   "outputs": [
    {
     "name": "stdout",
     "output_type": "stream",
     "text": [
      "WARNING:tensorflow:From /home/robert/anaconda3/envs/nn_env/lib/python3.7/site-packages/tensorflow/python/ops/resource_variable_ops.py:435: colocate_with (from tensorflow.python.framework.ops) is deprecated and will be removed in a future version.\n",
      "Instructions for updating:\n",
      "Colocations handled automatically by placer.\n"
     ]
    }
   ],
   "source": [
    "# Create an input layer which is similar to a feed_dict in TensorFlow.\n",
    "inputs = Input(shape=(shape_flat,))\n",
    "#copy\n",
    "net = inputs\n",
    "# The input is an image as a flattened array with 784 elements.\n",
    "# But the convolutional layers expect images with shape (28, 28, 1)\n",
    "net = Reshape(shape_full)(net)\n",
    "# First convolutional layer with ReLU-activation and max-pooling.\n",
    "net = Conv2D(kernel_size=5,strides=1,filters=16,padding='same', \n",
    "             activation='relu',name='layer_conv1')(net)\n",
    "net = MaxPooling2D(pool_size=2,strides=2)(net)\n",
    "# Second convolutional layer with ReLU-activation and max-pooling.\n",
    "net = Conv2D(kernel_size=5,strides=1,filters=36,padding='same', \n",
    "             activation='relu',name='layer_conv2')(net)\n",
    "net = MaxPooling2D(pool_size=2,strides=2)(net)\n",
    "# Flatten the output of the conv-layer from 4-dim to 2-dim.\n",
    "net = Flatten()(net)\n",
    "# First fully-connected / dense layer with ReLU-activation.\n",
    "net = Dense(128,activation='relu')(net)\n",
    "# Last fully-connected / dense layer with softmax-activation\n",
    "# so it can be used for classification.\n",
    "net = Dense(num_classes,activation='softmax')(net)\n",
    "outputs=net"
   ]
  },
  {
   "cell_type": "code",
   "execution_count": 8,
   "metadata": {},
   "outputs": [],
   "source": [
    "from tensorflow.python.keras.models import Model"
   ]
  },
  {
   "cell_type": "code",
   "execution_count": 9,
   "metadata": {},
   "outputs": [],
   "source": [
    "model = Model(inputs,outputs)\n",
    "model.compile(optimizer='adam',loss='categorical_crossentropy',metrics=['accuracy'])"
   ]
  },
  {
   "cell_type": "code",
   "execution_count": 10,
   "metadata": {},
   "outputs": [
    {
     "data": {
      "text/plain": [
       "((42000, 784), pandas.core.series.Series, (42000,))"
      ]
     },
     "execution_count": 10,
     "metadata": {},
     "output_type": "execute_result"
    }
   ],
   "source": [
    "train.shape,type(labels),labels.shape"
   ]
  },
  {
   "cell_type": "code",
   "execution_count": 11,
   "metadata": {},
   "outputs": [],
   "source": [
    "import warnings\n",
    "\n",
    "warnings.filterwarnings(\"ignore\", message=\"numpy.dtype size changed\")\n",
    "warnings.filterwarnings(\"ignore\", message=\"numpy.ufunc size changed\")"
   ]
  },
  {
   "cell_type": "code",
   "execution_count": 18,
   "metadata": {},
   "outputs": [
    {
     "name": "stderr",
     "output_type": "stream",
     "text": [
      "/home/robert/anaconda3/envs/nn_env/lib/python3.7/site-packages/sklearn/preprocessing/_encoders.py:414: FutureWarning: The handling of integer data will change in version 0.22. Currently, the categories are determined based on the range [0, max(values)], while in the future they will be determined based on the unique values.\n",
      "If you want the future behaviour and silence this warning, you can specify \"categories='auto'\".\n",
      "In case you used a LabelEncoder before this OneHotEncoder to convert the categories to integers, then you can now use the OneHotEncoder directly.\n",
      "  warnings.warn(msg, FutureWarning)\n"
     ]
    }
   ],
   "source": [
    "lab_enc = encode_labels(labels)\n",
    "\n",
    "image_data = process_digit_data(train).reshape(-1,784)\n",
    "#lab_enc.shape,image_data.shape\n",
    "X_train, X_test, y_train, y_test = train_test_split(image_data, lab_enc, test_size=0.1, random_state=42)"
   ]
  },
  {
   "cell_type": "code",
   "execution_count": 19,
   "metadata": {},
   "outputs": [
    {
     "name": "stdout",
     "output_type": "stream",
     "text": [
      "WARNING:tensorflow:From /home/robert/anaconda3/envs/nn_env/lib/python3.7/site-packages/tensorflow/python/ops/math_ops.py:3066: to_int32 (from tensorflow.python.ops.math_ops) is deprecated and will be removed in a future version.\n",
      "Instructions for updating:\n",
      "Use tf.cast instead.\n",
      "37800/37800 [==============================] - 14s 361us/sample - loss: 0.1991 - acc: 0.9381\n"
     ]
    },
    {
     "data": {
      "text/plain": [
       "<tensorflow.python.keras.callbacks.History at 0x7fdad4a08908>"
      ]
     },
     "execution_count": 19,
     "metadata": {},
     "output_type": "execute_result"
    }
   ],
   "source": [
    "model.fit(X_train,y_train,epochs=1,batch_size=64)"
   ]
  },
  {
   "cell_type": "code",
   "execution_count": 59,
   "metadata": {},
   "outputs": [
    {
     "name": "stdout",
     "output_type": "stream",
     "text": [
      "4200/4200 [==============================] - 2s 556us/sample - loss: 0.0574 - acc: 0.9819\n"
     ]
    },
    {
     "data": {
      "text/plain": [
       "[0.057404437519033395, 0.98190475]"
      ]
     },
     "execution_count": 59,
     "metadata": {},
     "output_type": "execute_result"
    }
   ],
   "source": [
    "model.evaluate(X_test,y_test)"
   ]
  },
  {
   "cell_type": "code",
   "execution_count": 20,
   "metadata": {},
   "outputs": [
    {
     "name": "stdout",
     "output_type": "stream",
     "text": [
      "_________________________________________________________________\n",
      "Layer (type)                 Output Shape              Param #   \n",
      "=================================================================\n",
      "input_1 (InputLayer)         (None, 784)               0         \n",
      "_________________________________________________________________\n",
      "reshape (Reshape)            (None, 28, 28, 1)         0         \n",
      "_________________________________________________________________\n",
      "layer_conv1 (Conv2D)         (None, 28, 28, 16)        416       \n",
      "_________________________________________________________________\n",
      "max_pooling2d (MaxPooling2D) (None, 14, 14, 16)        0         \n",
      "_________________________________________________________________\n",
      "layer_conv2 (Conv2D)         (None, 14, 14, 36)        14436     \n",
      "_________________________________________________________________\n",
      "max_pooling2d_1 (MaxPooling2 (None, 7, 7, 36)          0         \n",
      "_________________________________________________________________\n",
      "flatten (Flatten)            (None, 1764)              0         \n",
      "_________________________________________________________________\n",
      "dense (Dense)                (None, 128)               225920    \n",
      "_________________________________________________________________\n",
      "dense_1 (Dense)              (None, 10)                1290      \n",
      "=================================================================\n",
      "Total params: 242,062\n",
      "Trainable params: 242,062\n",
      "Non-trainable params: 0\n",
      "_________________________________________________________________\n"
     ]
    }
   ],
   "source": [
    "import math\n",
    "\n",
    "\n",
    "def plot_conv_weights(weights, input_channel=0):\n",
    "    # Get the lowest and highest values for the weights.\n",
    "    # This is used to correct the colour intensity across\n",
    "    # the images so they can be compared with each other.\n",
    "    w_min = np.min(weights)\n",
    "    w_max = np.max(weights)\n",
    "\n",
    "    # Number of filters used in the conv. layer.\n",
    "    num_filters = weights.shape[3]\n",
    "\n",
    "    # Number of grids to plot.\n",
    "    # Rounded-up, square-root of the number of filters.\n",
    "    num_grids = math.ceil(math.sqrt(num_filters))\n",
    "    \n",
    "    # Create figure with a grid of sub-plots.\n",
    "    fig, axes = plt.subplots(num_grids, num_grids)\n",
    "\n",
    "    # Plot all the filter-weights.\n",
    "    for i, ax in enumerate(axes.flat):\n",
    "        # Only plot the valid filter-weights.\n",
    "        if i<num_filters:\n",
    "            # Get the weights for the i'th filter of the input channel.\n",
    "            # See new_conv_layer() for details on the format\n",
    "            # of this 4-dim tensor.\n",
    "            img = weights[:, :, input_channel, i]\n",
    "\n",
    "            # Plot image.\n",
    "            ax.imshow(img, vmin=w_min, vmax=w_max,\n",
    "                      interpolation='nearest', cmap='seismic')\n",
    "        \n",
    "        # Remove ticks from the plot.\n",
    "        ax.set_xticks([])\n",
    "        ax.set_yticks([])\n",
    "    \n",
    "    # Ensure the plot is shown correctly with multiple plots\n",
    "    # in a single Notebook cell.\n",
    "    plt.show()\n",
    "    \n",
    "    \n",
    "model.summary()"
   ]
  },
  {
   "cell_type": "code",
   "execution_count": 21,
   "metadata": {},
   "outputs": [],
   "source": [
    "#The first convolutional layer has index 2.\n",
    "layer_conv1=model.layers[2]\n",
    "layer_conv2=model.layers[4]\n",
    "#type(layer_conv1)\n",
    "#get weights\n",
    "weights_conv1 = layer_conv1.get_weights()[0]\n",
    "weights_conv2 = layer_conv2.get_weights()[0]"
   ]
  },
  {
   "cell_type": "code",
   "execution_count": 22,
   "metadata": {},
   "outputs": [
    {
     "data": {
      "text/plain": [
       "((5, 5, 1, 16), (5, 5, 16, 36))"
      ]
     },
     "execution_count": 22,
     "metadata": {},
     "output_type": "execute_result"
    }
   ],
   "source": [
    "weights_conv1.shape,weights_conv2.shape"
   ]
  },
  {
   "cell_type": "code",
   "execution_count": 23,
   "metadata": {},
   "outputs": [
    {
     "data": {
      "image/png": "[encoded data removed]",
      "text/plain": [
       "<Figure size 432x288 with 16 Axes>"
      ]
     },
     "metadata": {
      "image/png": {
       "height": 237,
       "width": 329
      }
     },
     "output_type": "display_data"
    }
   ],
   "source": [
    "plot_conv_weights(weights=weights_conv1, input_channel=0)"
   ]
  },
  {
   "cell_type": "code",
   "execution_count": 24,
   "metadata": {},
   "outputs": [
    {
     "data": {
      "image/png": "[encoded data removed]",
      "text/plain": [
       "<Figure size 432x288 with 36 Axes>"
      ]
     },
     "metadata": {
      "image/png": {
       "height": 237,
       "width": 338
      }
     },
     "output_type": "display_data"
    }
   ],
   "source": [
    "plot_conv_weights(weights=weights_conv2, input_channel=0)"
   ]
  },
  {
   "cell_type": "markdown",
   "metadata": {},
   "source": [
    "## on computing outputs of a conv layer-- see Magnus episode 3"
   ]
  },
  {
   "cell_type": "code",
   "execution_count": 25,
   "metadata": {},
   "outputs": [
    {
     "name": "stdout",
     "output_type": "stream",
     "text": [
      " \u001b[0mplot_conv_weights\u001b[0m\u001b[0;34m(\u001b[0m\u001b[0mweights\u001b[0m\u001b[0;34m,\u001b[0m \u001b[0minput_channel\u001b[0m\u001b[0;34m=\u001b[0m\u001b[0;36m0\u001b[0m\u001b[0;34m)\u001b[0m\u001b[0;34m\u001b[0m\u001b[0;34m\u001b[0m\u001b[0m\n",
      " "
     ]
    }
   ],
   "source": [
    "%pdef plot_conv_weights"
   ]
  },
  {
   "cell_type": "code",
   "execution_count": 26,
   "metadata": {},
   "outputs": [
    {
     "data": {
      "text/plain": [
       "\u001b[0;31mSignature:\u001b[0m      \u001b[0mmodel\u001b[0m\u001b[0;34m(\u001b[0m\u001b[0minputs\u001b[0m\u001b[0;34m,\u001b[0m \u001b[0;34m*\u001b[0m\u001b[0margs\u001b[0m\u001b[0;34m,\u001b[0m \u001b[0;34m**\u001b[0m\u001b[0mkwargs\u001b[0m\u001b[0;34m)\u001b[0m\u001b[0;34m\u001b[0m\u001b[0;34m\u001b[0m\u001b[0m\n",
       "\u001b[0;31mType:\u001b[0m           Model\n",
       "\u001b[0;31mString form:\u001b[0m    <tensorflow.python.keras.engine.training.Model object at 0x7fdad4d67a90>\n",
       "\u001b[0;31mFile:\u001b[0m           ~/anaconda3/envs/nn_env/lib/python3.7/site-packages/tensorflow/python/keras/engine/training.py\n",
       "\u001b[0;31mDocstring:\u001b[0m     \n",
       "`Model` groups layers into an object with training and inference features.\n",
       "\n",
       "There are two ways to instantiate a `Model`:\n",
       "\n",
       "1 - With the \"functional API\", where you start from `Input`,\n",
       "you chain layer calls to specify the model's forward pass,\n",
       "and finally you create your model from inputs and outputs:\n",
       "\n",
       "```python\n",
       "import tensorflow as tf\n",
       "\n",
       "inputs = tf.keras.Input(shape=(3,))\n",
       "x = tf.keras.layers.Dense(4, activation=tf.nn.relu)(inputs)\n",
       "outputs = tf.keras.layers.Dense(5, activation=tf.nn.softmax)(x)\n",
       "model = tf.keras.Model(inputs=inputs, outputs=outputs)\n",
       "```\n",
       "\n",
       "2 - By subclassing the `Model` class: in that case, you should define your\n",
       "layers in `__init__` and you should implement the model's forward pass\n",
       "in `call`.\n",
       "\n",
       "```python\n",
       "import tensorflow as tf\n",
       "\n",
       "class MyModel(tf.keras.Model):\n",
       "\n",
       "  def __init__(self):\n",
       "    super(MyModel, self).__init__()\n",
       "    self.dense1 = tf.keras.layers.Dense(4, activation=tf.nn.relu)\n",
       "    self.dense2 = tf.keras.layers.Dense(5, activation=tf.nn.softmax)\n",
       "\n",
       "  def call(self, inputs):\n",
       "    x = self.dense1(inputs)\n",
       "    return self.dense2(x)\n",
       "\n",
       "model = MyModel()\n",
       "```\n",
       "\n",
       "If you subclass `Model`, you can optionally have\n",
       "a `training` argument (boolean) in `call`, which you can use to specify\n",
       "a different behavior in training and inference:\n",
       "\n",
       "```python\n",
       "import tensorflow as tf\n",
       "\n",
       "class MyModel(tf.keras.Model):\n",
       "\n",
       "  def __init__(self):\n",
       "    super(MyModel, self).__init__()\n",
       "    self.dense1 = tf.keras.layers.Dense(4, activation=tf.nn.relu)\n",
       "    self.dense2 = tf.keras.layers.Dense(5, activation=tf.nn.softmax)\n",
       "    self.dropout = tf.keras.layers.Dropout(0.5)\n",
       "\n",
       "  def call(self, inputs, training=False):\n",
       "    x = self.dense1(inputs)\n",
       "    if training:\n",
       "      x = self.dropout(x, training=training)\n",
       "    return self.dense2(x)\n",
       "\n",
       "model = MyModel()\n",
       "```\n",
       "\u001b[0;31mCall docstring:\u001b[0m\n",
       "Wraps `call`, applying pre- and post-processing steps.\n",
       "\n",
       "Arguments:\n",
       "  inputs: input tensor(s).\n",
       "  *args: additional positional arguments to be passed to `self.call`.\n",
       "  **kwargs: additional keyword arguments to be passed to `self.call`.\n",
       "\n",
       "Returns:\n",
       "  Output tensor(s).\n",
       "\n",
       "Note:\n",
       "  - The following optional keyword arguments are reserved for specific uses:\n",
       "    * `training`: Boolean scalar tensor of Python boolean indicating\n",
       "      whether the `call` is meant for training or inference.\n",
       "    * `mask`: Boolean input mask.\n",
       "  - If the layer's `call` method takes a `mask` argument (as some Keras\n",
       "    layers do), its default value will be set to the mask generated\n",
       "    for `inputs` by the previous layer (if `input` did come from\n",
       "    a layer that generated a corresponding mask, i.e. if it came from\n",
       "    a Keras layer with masking support.\n",
       "\n",
       "Raises:\n",
       "  ValueError: if the layer's `call` method returns None (an invalid value).\n"
      ]
     },
     "metadata": {},
     "output_type": "display_data"
    }
   ],
   "source": [
    "%pinfo model"
   ]
  },
  {
   "cell_type": "code",
   "execution_count": 27,
   "metadata": {},
   "outputs": [],
   "source": [
    "z = np.random.normal(10,2,(3,3))"
   ]
  },
  {
   "cell_type": "code",
   "execution_count": 28,
   "metadata": {},
   "outputs": [
    {
     "name": "stdout",
     "output_type": "stream",
     "text": [
      "[[12.68068203  9.22682475 13.33795422]\n",
      " [ 6.56817393  6.2060383   6.83369698]\n",
      " [10.25301398 10.78151582  5.39600201]]\n"
     ]
    }
   ],
   "source": [
    "print(z)"
   ]
  },
  {
   "cell_type": "code",
   "execution_count": 29,
   "metadata": {},
   "outputs": [
    {
     "name": "stdout",
     "output_type": "stream",
     "text": [
      "Pretty printing has been turned OFF\n"
     ]
    }
   ],
   "source": [
    "%pprint"
   ]
  },
  {
   "cell_type": "code",
   "execution_count": 30,
   "metadata": {},
   "outputs": [
    {
     "name": "stdout",
     "output_type": "stream",
     "text": [
      "[[12.68068203  9.22682475 13.33795422]\n",
      " [ 6.56817393  6.2060383   6.83369698]\n",
      " [10.25301398 10.78151582  5.39600201]]\n"
     ]
    }
   ],
   "source": [
    "print(z)"
   ]
  },
  {
   "cell_type": "code",
   "execution_count": 35,
   "metadata": {},
   "outputs": [
    {
     "name": "stdout",
     "output_type": "stream",
     "text": [
      "[[12.68  9.23 13.34]\n",
      " [ 6.57  6.21  6.83]\n",
      " [10.25 10.78  5.4 ]]\n"
     ]
    }
   ],
   "source": [
    "%precision 2\n",
    "print(z)"
   ]
  },
  {
   "cell_type": "code",
   "execution_count": 39,
   "metadata": {},
   "outputs": [
    {
     "name": "stdout",
     "output_type": "stream",
     "text": [
      "3.141592653589793\n"
     ]
    }
   ],
   "source": [
    "%precision 4\n",
    "z=np.pi\n",
    "print(z)"
   ]
  },
  {
   "cell_type": "code",
   "execution_count": 40,
   "metadata": {},
   "outputs": [
    {
     "data": {
      "text/plain": [
       "np.bartlett\n",
       "np.base_repr\n",
       "np.binary_repr\n",
       "np.bincount\n",
       "np.bitwise_and\n",
       "np.bitwise_not\n",
       "np.bitwise_or\n",
       "np.bitwise_xor\n",
       "np.blackman\n",
       "np.block\n",
       "np.bmat\n",
       "np.bool\n",
       "np.bool8\n",
       "np.bool_\n",
       "np.broadcast\n",
       "np.broadcast_arrays\n",
       "np.broadcast_to\n",
       "np.busday_count\n",
       "np.busday_offset\n",
       "np.busdaycalendar\n",
       "np.byte\n",
       "np.byte_bounds\n",
       "np.bytes0\n",
       "np.bytes_"
      ]
     },
     "metadata": {},
     "output_type": "display_data"
    }
   ],
   "source": [
    "%psearch np.b*  "
   ]
  },
  {
   "cell_type": "code",
   "execution_count": 42,
   "metadata": {},
   "outputs": [
    {
     "name": "stdout",
     "output_type": "stream",
     "text": [
      "BatchNormalization\t Conv2D\t Dense\t Dropout\t Flatten\t ImageDataGenerator\t Input\t LabelEncoder\t MaxPool2D\t \n",
      "MaxPooling2D\t Model\t OneHotEncoder\t RMSprop\t Reshape\t StandardScaler\t X_test\t X_train\t confusion_matrix\t \n",
      "encode_labels\t image_data\t inputs\t lab_enc\t labels\t layer_conv1\t layer_conv2\t load_digit_data\t logging\t \n",
      "math\t model\t mpl\t net\t np\t num_classes\t outputs\t path\t pd\t \n",
      "plot_conv_weights\t plt\t process_digit_data\t sample_submission\t shape_flat\t shape_full\t sklearn\t sns\t sp\t \n",
      "sys\t test\t train\t train_test_split\t warnings\t weights_conv1\t weights_conv2\t y_test\t y_train\t \n",
      "z\t \n"
     ]
    }
   ],
   "source": [
    "#help(np.bincount)\n",
    "#%psource model\n",
    "%who"
   ]
  },
  {
   "cell_type": "code",
   "execution_count": 90,
   "metadata": {},
   "outputs": [
    {
     "name": "stdout",
     "output_type": "stream",
     "text": [
      "Variable             Type          Data/Info\n",
      "--------------------------------------------\n",
      "BatchNormalization   type          <class 'tensorflow.python<...>on.BatchNormalizationV1'>\n",
      "Conv2D               type          <class 'tensorflow.python<...>rs.convolutional.Conv2D'>\n",
      "Dense                type          <class 'tensorflow.python<...>keras.layers.core.Dense'>\n",
      "Dropout              type          <class 'tensorflow.python<...>ras.layers.core.Dropout'>\n",
      "Flatten              type          <class 'tensorflow.python<...>ras.layers.core.Flatten'>\n",
      "ImageDataGenerator   type          <class 'tensorflow.python<...>mage.ImageDataGenerator'>\n",
      "Input                function      <function Input at 0x00000176E09FD048>\n",
      "LabelEncoder         type          <class 'sklearn.preproces<...>sing.label.LabelEncoder'>\n",
      "MaxPool2D            type          <class 'tensorflow.python<...>rs.pooling.MaxPooling2D'>\n",
      "MaxPooling2D         type          <class 'tensorflow.python<...>rs.pooling.MaxPooling2D'>\n",
      "Model                type          <class 'tensorflow.python<...>s.engine.training.Model'>\n",
      "OneHotEncoder        type          <class 'sklearn.preproces<...>_encoders.OneHotEncoder'>\n",
      "RMSprop              type          <class 'tensorflow.python<...>eras.optimizers.RMSprop'>\n",
      "Reshape              type          <class 'tensorflow.python<...>ras.layers.core.Reshape'>\n",
      "StandardScaler       type          <class 'sklearn.preproces<...>ing.data.StandardScaler'>\n",
      "X_test               ndarray       4200x784: 3292800 elems, type `float64`, 26342400 bytes (25.1220703125 Mb)\n",
      "X_train              ndarray       37800x784: 29635200 elems, type `float64`, 237081600 bytes (226.0986328125 Mb)\n",
      "confusion_matrix     function      <function confusion_matrix at 0x00000176E28C6A60>\n",
      "encode_labels        function      <function encode_labels at 0x00000176E2D3E840>\n",
      "image_data           ndarray       42000x784: 32928000 elems, type `float64`, 263424000 bytes (251.220703125 Mb)\n",
      "inputs               Tensor        Tensor(\"input_3:0\", shape<...>=(?, 784), dtype=float32)\n",
      "lab_enc              matrix        [[0. 1. 0. ... 0. 0. 0.]\\<...> [0. 0. 0. ... 0. 0. 1.]]\n",
      "labels               Series        0        1\\n1        0\\n2<...>ngth: 42000, dtype: int64\n",
      "layer_conv1          Conv2D        <tensorflow.python.keras.<...>ct at 0x00000176E2E82320>\n",
      "layer_conv2          Conv2D        <tensorflow.python.keras.<...>ct at 0x00000176E2E88C50>\n",
      "layer_input          InputLayer    <tensorflow.python.keras.<...>ct at 0x00000176E2E82400>\n",
      "load_digit_data      function      <function load_digit_data at 0x00000176E2BBFAE8>\n",
      "logging              module        <module 'logging' from 'C<...>b\\\\logging\\\\__init__.py'>\n",
      "math                 module        <module 'math' (built-in)>\n",
      "model                Model         <tensorflow.python.keras.<...>ct at 0x00000176E33DECC0>\n",
      "mpl                  module        <module 'matplotlib' from<...>matplotlib\\\\__init__.py'>\n",
      "net                  Tensor        Tensor(\"dense_1/Softmax:0<...>e=(?, 10), dtype=float32)\n",
      "np                   module        <module 'numpy' from 'C:\\<...>ges\\\\numpy\\\\__init__.py'>\n",
      "num_classes          int           10\n",
      "outputs              Tensor        Tensor(\"dense_1/Softmax:0<...>e=(?, 10), dtype=float32)\n",
      "path                 str           ./Data/\n",
      "pd                   module        <module 'pandas' from 'C:<...>es\\\\pandas\\\\__init__.py'>\n",
      "plot_conv_weights    function      <function plot_conv_weigh<...>ts at 0x00000176E3AF5950>\n",
      "plot_images          function      <function plot_images at 0x00000176E2D3E8C8>\n",
      "plt                  module        <module 'matplotlib.pyplo<...>\\\\matplotlib\\\\pyplot.py'>\n",
      "process_digit_data   function      <function process_digit_d<...>ta at 0x00000176E2D3E6A8>\n",
      "sample_submission    DataFrame            ImageId  Label\\n0 <...>n[28000 rows x 2 columns]\n",
      "shape_flat           int           784\n",
      "shape_full           tuple         n=3\n",
      "show_image           function      <function show_image at 0x00000176E2D3E598>\n",
      "sklearn              module        <module 'sklearn' from 'C<...>s\\\\sklearn\\\\__init__.py'>\n",
      "sns                  module        <module 'seaborn' from 'C<...>s\\\\seaborn\\\\__init__.py'>\n",
      "sp                   module        <module 'scipy' from 'C:\\<...>ges\\\\scipy\\\\__init__.py'>\n",
      "sys                  module        <module 'sys' (built-in)>\n",
      "test                 DataFrame            pixel0  pixel1  pi<...>28000 rows x 784 columns]\n",
      "train                DataFrame            pixel0  pixel1  pi<...>42000 rows x 784 columns]\n",
      "train_test_split     function      <function train_test_split at 0x00000176E28BF6A8>\n",
      "warnings             module        <module 'warnings' from '<...>nv_nn\\\\lib\\\\warnings.py'>\n",
      "weights_conv1        ndarray       5x5x1x16: 400 elems, type `float32`, 1600 bytes\n",
      "weights_conv2        ndarray       5x5x16x36: 14400 elems, type `float32`, 57600 bytes\n",
      "y_test               matrix        [[0. 0. 0. ... 0. 1. 0.]\\<...> [0. 0. 0. ... 0. 0. 0.]]\n",
      "y_train              matrix        [[0. 0. 0. ... 0. 1. 0.]\\<...> [1. 0. 0. ... 0. 0. 0.]]\n",
      "z                    ndarray       3x3: 9 elems, type `float64`, 72 bytes\n"
     ]
    }
   ],
   "source": [
    "#%whos"
   ]
  },
  {
   "cell_type": "code",
   "execution_count": null,
   "metadata": {},
   "outputs": [],
   "source": []
  }
 ],
 "metadata": {
  "kernelspec": {
   "display_name": "Python 3",
   "language": "python",
   "name": "python3"
  },
  "language_info": {
   "codemirror_mode": {
    "name": "ipython",
    "version": 3
   },
   "file_extension": ".py",
   "mimetype": "text/x-python",
   "name": "python",
   "nbconvert_exporter": "python",
   "pygments_lexer": "ipython3",
   "version": "3.6.8"
  }
 },
 "nbformat": 4,
 "nbformat_minor": 2
}

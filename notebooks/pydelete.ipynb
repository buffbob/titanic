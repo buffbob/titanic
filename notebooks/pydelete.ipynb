{
 "cells": [
  {
   "cell_type": "code",
   "execution_count": 1,
   "metadata": {},
   "outputs": [
    {
     "name": "stdout",
     "output_type": "stream",
     "text": [
      "/home/robert/dev/Pro/ML/titanic/notebooks\n"
     ]
    }
   ],
   "source": [
    "!pwd"
   ]
  },
  {
   "cell_type": "code",
   "execution_count": 2,
   "metadata": {},
   "outputs": [],
   "source": [
    "from titanic.skeleton import fib"
   ]
  },
  {
   "cell_type": "code",
   "execution_count": 7,
   "metadata": {},
   "outputs": [],
   "source": [
    "import titanic.tit_utils as tu"
   ]
  },
  {
   "cell_type": "code",
   "execution_count": 6,
   "metadata": {},
   "outputs": [
    {
     "name": "stdout",
     "output_type": "stream",
     "text": [
      "Collecting category_encoders\n",
      "  Using cached https://files.pythonhosted.org/packages/6e/a1/f7a22f144f33be78afeb06bfa78478e8284a64263a3c09b1ef54e673841e/category_encoders-2.0.0-py2.py3-none-any.whl\n",
      "Requirement already satisfied: scipy>=0.19.0 in /home/robert/anaconda3/envs/tf2/lib/python3.6/site-packages (from category_encoders) (1.3.0)\n",
      "Requirement already satisfied: numpy>=1.11.3 in /home/robert/anaconda3/envs/tf2/lib/python3.6/site-packages (from category_encoders) (1.16.4)\n",
      "Requirement already satisfied: pandas>=0.21.1 in /home/robert/anaconda3/envs/tf2/lib/python3.6/site-packages (from category_encoders) (0.24.2)\n",
      "Requirement already satisfied: statsmodels>=0.6.1 in /home/robert/anaconda3/envs/tf2/lib/python3.6/site-packages (from category_encoders) (0.9.0)\n",
      "Requirement already satisfied: patsy>=0.4.1 in /home/robert/anaconda3/envs/tf2/lib/python3.6/site-packages (from category_encoders) (0.5.1)\n",
      "Requirement already satisfied: scikit-learn>=0.20.0 in /home/robert/anaconda3/envs/tf2/lib/python3.6/site-packages (from category_encoders) (0.21.2)\n",
      "Requirement already satisfied: pytz>=2011k in /home/robert/anaconda3/envs/tf2/lib/python3.6/site-packages (from pandas>=0.21.1->category_encoders) (2019.1)\n",
      "Requirement already satisfied: python-dateutil>=2.5.0 in /home/robert/anaconda3/envs/tf2/lib/python3.6/site-packages (from pandas>=0.21.1->category_encoders) (2.8.0)\n",
      "Requirement already satisfied: six in /home/robert/anaconda3/envs/tf2/lib/python3.6/site-packages (from patsy>=0.4.1->category_encoders) (1.12.0)\n",
      "Requirement already satisfied: joblib>=0.11 in /home/robert/anaconda3/envs/tf2/lib/python3.6/site-packages (from scikit-learn>=0.20.0->category_encoders) (0.13.2)\n",
      "Installing collected packages: category-encoders\n",
      "Successfully installed category-encoders-2.0.0\n"
     ]
    }
   ],
   "source": [
    "!pip install category_encoders"
   ]
  },
  {
   "cell_type": "code",
   "execution_count": null,
   "metadata": {},
   "outputs": [],
   "source": []
  }
 ],
 "metadata": {
  "kernelspec": {
   "display_name": "Python 3",
   "language": "python",
   "name": "python3"
  },
  "language_info": {
   "codemirror_mode": {
    "name": "ipython",
    "version": 3
   },
   "file_extension": ".py",
   "mimetype": "text/x-python",
   "name": "python",
   "nbconvert_exporter": "python",
   "pygments_lexer": "ipython3",
   "version": "3.6.8"
  }
 },
 "nbformat": 4,
 "nbformat_minor": 2
}
